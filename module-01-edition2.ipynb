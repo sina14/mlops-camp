{
 "cells": [
  {
   "cell_type": "code",
   "execution_count": 1,
   "id": "4ee7f93b",
   "metadata": {},
   "outputs": [],
   "source": [
    "import pandas as pd\n",
    "import pickle\n",
    "\n",
    "import seaborn as sns\n",
    "import matplotlib.pyplot as plt\n",
    "\n",
    "from scipy import stats\n",
    "\n",
    "from sklearn.preprocessing import OneHotEncoder\n",
    "\n",
    "%matplotlib inline\n",
    "\n",
    "import warnings\n",
    "warnings.filterwarnings(\"ignore\")"
   ]
  },
  {
   "cell_type": "code",
   "execution_count": 2,
   "id": "5e793407",
   "metadata": {},
   "outputs": [],
   "source": [
    "from sklearn.feature_extraction import DictVectorizer\n",
    "\n",
    "from sklearn.linear_model import LinearRegression\n",
    "from sklearn.linear_model import Lasso\n",
    "from sklearn.linear_model import Ridge\n",
    "\n",
    "from sklearn.metrics import mean_squared_error"
   ]
  },
  {
   "cell_type": "code",
   "execution_count": 6,
   "id": "97e1f0ec",
   "metadata": {},
   "outputs": [],
   "source": [
    "def read_df(filename):\n",
    "    \n",
    "    if filename.endswith('.csv'):\n",
    "        df = pd.read_csv(filename)\n",
    "\n",
    "        df.lpep_dropoff_datetime = pd.to_datetime(df.lpep_dropoff_datetime)\n",
    "        df.lpep_pickup_datetime = pd.to_datetime(df.lpep_pickup_datetime)\n",
    "    \n",
    "    elif filename.endswith('.parquet'):\n",
    "        df = pd.read_parquet(filename)\n",
    "\n",
    "    df['duration'] = df['duration'] = df['tpep_dropoff_datetime'] - df['tpep_pickup_datetime']\n",
    "    df['duration'] = df['duration'].apply(lambda td: td.total_seconds() / 60)\n",
    "\n",
    "    df = df[(df['duration'] >= 1) & (df['duration'] <= 60)]\n",
    "\n",
    "    categorical = ['PULocationID', 'DOLocationID']\n",
    "    df[categorical] = df[categorical].astype(str)\n",
    "    \n",
    "    return df"
   ]
  },
  {
   "cell_type": "code",
   "execution_count": 7,
   "id": "d7b270fd",
   "metadata": {},
   "outputs": [],
   "source": [
    "df_train = read_df(\"yellow_tripdata_2022-01.parquet\")\n",
    "df_valid = read_df(\"yellow_tripdata_2022-02.parquet\")"
   ]
  },
  {
   "cell_type": "code",
   "execution_count": null,
   "id": "9cf68c82",
   "metadata": {},
   "outputs": [],
   "source": []
  },
  {
   "cell_type": "code",
   "execution_count": 8,
   "id": "46634c48",
   "metadata": {},
   "outputs": [
    {
     "data": {
      "text/plain": [
       "(2421440, 2918187)"
      ]
     },
     "execution_count": 8,
     "metadata": {},
     "output_type": "execute_result"
    }
   ],
   "source": [
    "len(df_train), len(df_valid)"
   ]
  },
  {
   "cell_type": "code",
   "execution_count": 9,
   "id": "9eab9a58",
   "metadata": {},
   "outputs": [],
   "source": [
    "df_train[\"PUDO\"] = df_train[\"PULocationID\"] + \"_\" + df_train[\"DOLocationID\"]\n",
    "df_valid[\"PUDO\"] = df_valid[\"PULocationID\"] + \"_\" + df_valid[\"DOLocationID\"]"
   ]
  },
  {
   "cell_type": "code",
   "execution_count": null,
   "id": "e11b6106",
   "metadata": {},
   "outputs": [],
   "source": []
  },
  {
   "cell_type": "code",
   "execution_count": 10,
   "id": "ec8af74b",
   "metadata": {},
   "outputs": [],
   "source": [
    "categorical = [\"PUDO\"]\n",
    "numerical = [\"trip_distance\"]"
   ]
  },
  {
   "cell_type": "code",
   "execution_count": 11,
   "id": "53ce9f33",
   "metadata": {},
   "outputs": [],
   "source": [
    "dv = DictVectorizer()\n",
    "\n",
    "train_data = df_train[categorical + numerical].to_dict(orient=\"records\")\n",
    "X_train = dv.fit_transform(train_data)"
   ]
  },
  {
   "cell_type": "code",
   "execution_count": 12,
   "id": "74a51042",
   "metadata": {},
   "outputs": [],
   "source": [
    "valid_data = df_valid[categorical + numerical].to_dict(orient=\"records\")\n",
    "X_valid = dv.transform(valid_data)"
   ]
  },
  {
   "cell_type": "code",
   "execution_count": null,
   "id": "be4060cb",
   "metadata": {},
   "outputs": [],
   "source": []
  },
  {
   "cell_type": "code",
   "execution_count": 13,
   "id": "67789566",
   "metadata": {},
   "outputs": [],
   "source": [
    "y_train = df_train[\"duration\"].values\n",
    "y_valid = df_valid[\"duration\"].values"
   ]
  },
  {
   "cell_type": "code",
   "execution_count": null,
   "id": "a8ef06cd",
   "metadata": {},
   "outputs": [],
   "source": []
  },
  {
   "cell_type": "code",
   "execution_count": 15,
   "id": "91fd8ccc",
   "metadata": {},
   "outputs": [
    {
     "data": {
      "text/plain": [
       "5.530252669479954"
      ]
     },
     "execution_count": 15,
     "metadata": {},
     "output_type": "execute_result"
    }
   ],
   "source": [
    "lr = LinearRegression()\n",
    "lr.fit(X_train, y_train)\n",
    "\n",
    "y_pred = lr.predict(X_valid)\n",
    "\n",
    "mse = mean_squared_error(y_valid, y_pred, squared=False)\n",
    "mse"
   ]
  },
  {
   "cell_type": "code",
   "execution_count": null,
   "id": "dbd6fe5d",
   "metadata": {},
   "outputs": [],
   "source": [
    "with open(\"models/linear_regression_v2.bin\", \"wb\") as fout:\n",
    "    pickle.dump((dv, lr), fout)"
   ]
  },
  {
   "cell_type": "code",
   "execution_count": null,
   "id": "64918aa6",
   "metadata": {},
   "outputs": [],
   "source": []
  },
  {
   "cell_type": "code",
   "execution_count": 20,
   "id": "44fc7217",
   "metadata": {},
   "outputs": [
    {
     "data": {
      "text/plain": [
       "9.374921127169834"
      ]
     },
     "execution_count": 20,
     "metadata": {},
     "output_type": "execute_result"
    }
   ],
   "source": [
    "lr = Lasso(alpha=0.01)\n",
    "lr.fit(X_train, y_train)\n",
    "\n",
    "y_pred = lr.predict(X_valid)\n",
    "\n",
    "mse = mean_squared_error(y_valid, y_pred, squared=False)\n",
    "mse"
   ]
  },
  {
   "cell_type": "code",
   "execution_count": 21,
   "id": "ae9ad321",
   "metadata": {},
   "outputs": [],
   "source": [
    "with open(\"models/lasso_v1.bin\", \"wb\") as fout:\n",
    "    pickle.dump((dv, lr), fout)"
   ]
  },
  {
   "cell_type": "code",
   "execution_count": null,
   "id": "76817e22",
   "metadata": {},
   "outputs": [],
   "source": []
  },
  {
   "cell_type": "code",
   "execution_count": 22,
   "id": "5c4c1bf3",
   "metadata": {},
   "outputs": [
    {
     "data": {
      "text/plain": [
       "6.00738228185992"
      ]
     },
     "execution_count": 22,
     "metadata": {},
     "output_type": "execute_result"
    }
   ],
   "source": [
    "lr = Ridge(alpha=0.01)\n",
    "lr.fit(X_train, y_train)\n",
    "\n",
    "y_pred = lr.predict(X_valid)\n",
    "\n",
    "mse = mean_squared_error(y_valid, y_pred, squared=False)\n",
    "mse"
   ]
  },
  {
   "cell_type": "code",
   "execution_count": 23,
   "id": "0851e581",
   "metadata": {},
   "outputs": [],
   "source": [
    "with open(\"models/ridge_v1.bin\", \"wb\") as fout:\n",
    "    pickle.dump((dv, lr), fout)"
   ]
  },
  {
   "cell_type": "code",
   "execution_count": null,
   "id": "2f3b1727",
   "metadata": {},
   "outputs": [],
   "source": []
  },
  {
   "cell_type": "markdown",
   "id": "0b5aa2a6",
   "metadata": {},
   "source": [
    "## MLOPS Pipeline:\n",
    "\n",
    "#### Load & Prepare Data ---> Vectorize ---> Train  ===> Model v.1\n",
    "\n",
    "#### WebService uses model\n",
    "\n",
    "#### Monitoring the performance ====> Model v.2 =====> Replace with Model v.1"
   ]
  },
  {
   "cell_type": "code",
   "execution_count": null,
   "id": "b3e2b405",
   "metadata": {},
   "outputs": [],
   "source": []
  },
  {
   "cell_type": "code",
   "execution_count": null,
   "id": "0fcc9819",
   "metadata": {},
   "outputs": [],
   "source": []
  },
  {
   "cell_type": "code",
   "execution_count": null,
   "id": "4ade53a0",
   "metadata": {},
   "outputs": [],
   "source": []
  }
 ],
 "metadata": {
  "kernelspec": {
   "display_name": "Python 3 (ipykernel)",
   "language": "python",
   "name": "python3"
  },
  "language_info": {
   "codemirror_mode": {
    "name": "ipython",
    "version": 3
   },
   "file_extension": ".py",
   "mimetype": "text/x-python",
   "name": "python",
   "nbconvert_exporter": "python",
   "pygments_lexer": "ipython3",
   "version": "3.9.13"
  }
 },
 "nbformat": 4,
 "nbformat_minor": 5
}
