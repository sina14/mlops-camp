{
 "cells": [
  {
   "cell_type": "code",
   "execution_count": 1,
   "id": "a7b989d4",
   "metadata": {},
   "outputs": [
    {
     "name": "stdout",
     "output_type": "stream",
     "text": [
      "Collecting mlflow\n",
      "  Downloading mlflow-2.3.2-py3-none-any.whl (17.7 MB)\n",
      "     ---------------------------------------- 17.7/17.7 MB 7.6 MB/s eta 0:00:00\n",
      "Requirement already satisfied: sqlalchemy<3,>=1.4.0 in d:\\anaconda3_2023-01-22\\lib\\site-packages (from mlflow) (1.4.39)\n",
      "Requirement already satisfied: matplotlib<4 in d:\\anaconda3_2023-01-22\\lib\\site-packages (from mlflow) (3.5.2)\n",
      "Collecting databricks-cli<1,>=0.8.7\n",
      "  Downloading databricks-cli-0.17.7.tar.gz (83 kB)\n",
      "     ---------------------------------------- 83.5/83.5 kB 4.6 MB/s eta 0:00:00\n",
      "  Preparing metadata (setup.py): started\n",
      "  Preparing metadata (setup.py): finished with status 'done'\n",
      "Requirement already satisfied: scikit-learn<2 in d:\\anaconda3_2023-01-22\\lib\\site-packages (from mlflow) (1.0.2)\n",
      "Requirement already satisfied: importlib-metadata!=4.7.0,<7,>=3.7.0 in d:\\anaconda3_2023-01-22\\lib\\site-packages (from mlflow) (4.11.3)\n",
      "Requirement already satisfied: click<9,>=7.0 in d:\\anaconda3_2023-01-22\\lib\\site-packages (from mlflow) (8.0.4)\n",
      "Requirement already satisfied: numpy<2 in d:\\anaconda3_2023-01-22\\lib\\site-packages (from mlflow) (1.21.5)\n",
      "Requirement already satisfied: entrypoints<1 in d:\\anaconda3_2023-01-22\\lib\\site-packages (from mlflow) (0.4)\n",
      "Collecting alembic!=1.10.0,<2\n",
      "  Downloading alembic-1.11.1-py3-none-any.whl (224 kB)\n",
      "     ------------------------------------- 224.5/224.5 kB 14.3 MB/s eta 0:00:00\n",
      "Collecting sqlparse<1,>=0.4.0\n",
      "  Downloading sqlparse-0.4.4-py3-none-any.whl (41 kB)\n",
      "     ---------------------------------------- 41.2/41.2 kB 1.9 MB/s eta 0:00:00\n",
      "Requirement already satisfied: pandas<3 in d:\\anaconda3_2023-01-22\\lib\\site-packages (from mlflow) (2.0.1)\n",
      "Requirement already satisfied: pyyaml<7,>=5.1 in d:\\anaconda3_2023-01-22\\lib\\site-packages (from mlflow) (6.0)\n",
      "Requirement already satisfied: packaging<24 in d:\\anaconda3_2023-01-22\\lib\\site-packages (from mlflow) (21.3)\n",
      "Collecting protobuf<5,>=3.12.0\n",
      "  Downloading protobuf-4.23.1-cp39-cp39-win_amd64.whl (422 kB)\n",
      "     -------------------------------------- 422.5/422.5 kB 8.8 MB/s eta 0:00:00\n",
      "Requirement already satisfied: scipy<2 in d:\\anaconda3_2023-01-22\\lib\\site-packages (from mlflow) (1.9.1)\n",
      "Collecting querystring-parser<2\n",
      "  Using cached querystring_parser-1.2.4-py2.py3-none-any.whl (7.9 kB)\n",
      "Requirement already satisfied: Flask<3 in d:\\anaconda3_2023-01-22\\lib\\site-packages (from mlflow) (1.1.2)\n",
      "Requirement already satisfied: cloudpickle<3 in d:\\anaconda3_2023-01-22\\lib\\site-packages (from mlflow) (2.0.0)\n",
      "Requirement already satisfied: markdown<4,>=3.3 in d:\\anaconda3_2023-01-22\\lib\\site-packages (from mlflow) (3.3.4)\n",
      "Collecting waitress<3\n",
      "  Using cached waitress-2.1.2-py3-none-any.whl (57 kB)\n",
      "Requirement already satisfied: pytz<2024 in d:\\anaconda3_2023-01-22\\lib\\site-packages (from mlflow) (2023.3)\n",
      "Collecting Jinja2<4,>=3.0\n",
      "  Using cached Jinja2-3.1.2-py3-none-any.whl (133 kB)\n",
      "Requirement already satisfied: requests<3,>=2.17.3 in d:\\anaconda3_2023-01-22\\lib\\site-packages (from mlflow) (2.28.1)\n",
      "Collecting pyarrow<12,>=4.0.0\n",
      "  Downloading pyarrow-11.0.0-cp39-cp39-win_amd64.whl (20.6 MB)\n",
      "     ---------------------------------------- 20.6/20.6 MB 8.0 MB/s eta 0:00:00\n",
      "Collecting gitpython<4,>=2.1.0\n",
      "  Downloading GitPython-3.1.31-py3-none-any.whl (184 kB)\n",
      "     -------------------------------------- 184.3/184.3 kB 5.6 MB/s eta 0:00:00\n",
      "Collecting docker<7,>=4.0.0\n",
      "  Downloading docker-6.1.2-py3-none-any.whl (148 kB)\n",
      "     ------------------------------------ 148.1/148.1 kB 679.1 kB/s eta 0:00:00\n",
      "Requirement already satisfied: typing-extensions>=4 in d:\\anaconda3_2023-01-22\\lib\\site-packages (from alembic!=1.10.0,<2->mlflow) (4.3.0)\n",
      "Collecting Mako\n",
      "  Using cached Mako-1.2.4-py3-none-any.whl (78 kB)\n",
      "Requirement already satisfied: colorama in d:\\anaconda3_2023-01-22\\lib\\site-packages (from click<9,>=7.0->mlflow) (0.4.5)\n",
      "Requirement already satisfied: pyjwt>=1.7.0 in d:\\anaconda3_2023-01-22\\lib\\site-packages (from databricks-cli<1,>=0.8.7->mlflow) (2.4.0)\n",
      "Collecting oauthlib>=3.1.0\n",
      "  Using cached oauthlib-3.2.2-py3-none-any.whl (151 kB)\n",
      "Requirement already satisfied: tabulate>=0.7.7 in d:\\anaconda3_2023-01-22\\lib\\site-packages (from databricks-cli<1,>=0.8.7->mlflow) (0.8.10)\n",
      "Requirement already satisfied: six>=1.10.0 in d:\\anaconda3_2023-01-22\\lib\\site-packages (from databricks-cli<1,>=0.8.7->mlflow) (1.16.0)\n",
      "Requirement already satisfied: urllib3<2.0.0,>=1.26.7 in d:\\anaconda3_2023-01-22\\lib\\site-packages (from databricks-cli<1,>=0.8.7->mlflow) (1.26.11)\n",
      "Requirement already satisfied: websocket-client>=0.32.0 in d:\\anaconda3_2023-01-22\\lib\\site-packages (from docker<7,>=4.0.0->mlflow) (0.58.0)\n",
      "Collecting pywin32>=304\n",
      "  Downloading pywin32-306-cp39-cp39-win_amd64.whl (9.3 MB)\n",
      "     ---------------------------------------- 9.3/9.3 MB 7.8 MB/s eta 0:00:00\n",
      "Requirement already satisfied: Werkzeug>=0.15 in d:\\anaconda3_2023-01-22\\lib\\site-packages (from Flask<3->mlflow) (2.0.3)\n",
      "Requirement already satisfied: itsdangerous>=0.24 in d:\\anaconda3_2023-01-22\\lib\\site-packages (from Flask<3->mlflow) (2.0.1)\n",
      "Collecting gitdb<5,>=4.0.1\n",
      "  Using cached gitdb-4.0.10-py3-none-any.whl (62 kB)\n",
      "Requirement already satisfied: zipp>=0.5 in d:\\anaconda3_2023-01-22\\lib\\site-packages (from importlib-metadata!=4.7.0,<7,>=3.7.0->mlflow) (3.8.0)\n",
      "Requirement already satisfied: MarkupSafe>=2.0 in d:\\anaconda3_2023-01-22\\lib\\site-packages (from Jinja2<4,>=3.0->mlflow) (2.0.1)\n",
      "Requirement already satisfied: python-dateutil>=2.7 in d:\\anaconda3_2023-01-22\\lib\\site-packages (from matplotlib<4->mlflow) (2.8.2)\n",
      "Requirement already satisfied: pyparsing>=2.2.1 in d:\\anaconda3_2023-01-22\\lib\\site-packages (from matplotlib<4->mlflow) (3.0.9)\n",
      "Requirement already satisfied: fonttools>=4.22.0 in d:\\anaconda3_2023-01-22\\lib\\site-packages (from matplotlib<4->mlflow) (4.25.0)\n",
      "Requirement already satisfied: pillow>=6.2.0 in d:\\anaconda3_2023-01-22\\lib\\site-packages (from matplotlib<4->mlflow) (9.2.0)\n",
      "Requirement already satisfied: cycler>=0.10 in d:\\anaconda3_2023-01-22\\lib\\site-packages (from matplotlib<4->mlflow) (0.11.0)\n",
      "Requirement already satisfied: kiwisolver>=1.0.1 in d:\\anaconda3_2023-01-22\\lib\\site-packages (from matplotlib<4->mlflow) (1.4.2)\n",
      "Requirement already satisfied: tzdata>=2022.1 in d:\\anaconda3_2023-01-22\\lib\\site-packages (from pandas<3->mlflow) (2023.3)\n",
      "Requirement already satisfied: idna<4,>=2.5 in d:\\anaconda3_2023-01-22\\lib\\site-packages (from requests<3,>=2.17.3->mlflow) (3.3)\n",
      "Requirement already satisfied: charset-normalizer<3,>=2 in d:\\anaconda3_2023-01-22\\lib\\site-packages (from requests<3,>=2.17.3->mlflow) (2.0.4)\n",
      "Requirement already satisfied: certifi>=2017.4.17 in d:\\anaconda3_2023-01-22\\lib\\site-packages (from requests<3,>=2.17.3->mlflow) (2022.9.14)\n",
      "Requirement already satisfied: joblib>=0.11 in d:\\anaconda3_2023-01-22\\lib\\site-packages (from scikit-learn<2->mlflow) (1.1.0)\n",
      "Requirement already satisfied: threadpoolctl>=2.0.0 in d:\\anaconda3_2023-01-22\\lib\\site-packages (from scikit-learn<2->mlflow) (2.2.0)\n",
      "Requirement already satisfied: greenlet!=0.4.17 in d:\\anaconda3_2023-01-22\\lib\\site-packages (from sqlalchemy<3,>=1.4.0->mlflow) (1.1.1)\n",
      "Collecting smmap<6,>=3.0.1\n",
      "  Downloading smmap-5.0.0-py3-none-any.whl (24 kB)\n",
      "Building wheels for collected packages: databricks-cli\n",
      "  Building wheel for databricks-cli (setup.py): started\n",
      "  Building wheel for databricks-cli (setup.py): finished with status 'done'\n",
      "  Created wheel for databricks-cli: filename=databricks_cli-0.17.7-py3-none-any.whl size=143860 sha256=cb305a316eaa336f3087a819a2399686c98eff279b7ecc335a948f28c414dc53\n",
      "  Stored in directory: c:\\users\\admin\\appdata\\local\\pip\\cache\\wheels\\b6\\90\\68\\94d223a35a3910c1512a8d42d9f8333ce567ef26e250a56227\n",
      "Successfully built databricks-cli\n",
      "Installing collected packages: pywin32, waitress, sqlparse, smmap, querystring-parser, pyarrow, protobuf, oauthlib, Mako, Jinja2, gitdb, docker, databricks-cli, alembic, gitpython, mlflow\n",
      "  Attempting uninstall: pywin32\n",
      "    Found existing installation: pywin32 302\n",
      "    Uninstalling pywin32-302:\n",
      "      Successfully uninstalled pywin32-302\n",
      "  Rolling back uninstall of pywin32\n",
      "  Moving to d:\\anaconda3_2023-01-22\\lib\\site-packages\\__pycache__\\pythoncom.cpython-39.pyc\n",
      "   from C:\\Users\\Admin\\AppData\\Local\\Temp\\pip-uninstall-q42a96gp\\pythoncom.cpython-39.pyc\n",
      "  Moving to d:\\anaconda3_2023-01-22\\lib\\site-packages\\adodbapi\n",
      "   from D:\\Anaconda3_2023-01-22\\Lib\\site-packages\\~dodbapi\n",
      "  Moving to d:\\anaconda3_2023-01-22\\lib\\site-packages\\isapi\n",
      "   from D:\\Anaconda3_2023-01-22\\Lib\\site-packages\\~sapi\n",
      "  Moving to d:\\anaconda3_2023-01-22\\lib\\site-packages\\pythoncom.py\n",
      "   from C:\\Users\\Admin\\AppData\\Local\\Temp\\pip-uninstall-h3y0ht_7\\pythoncom.py\n",
      "  Moving to d:\\anaconda3_2023-01-22\\lib\\site-packages\\pythonwin\n",
      "   from D:\\Anaconda3_2023-01-22\\Lib\\site-packages\\~ythonwin\n",
      "  Moving to d:\\anaconda3_2023-01-22\\lib\\site-packages\\pywin32-302-py3.9.egg-info\n",
      "   from D:\\Anaconda3_2023-01-22\\Lib\\site-packages\\~ywin32-302-py3.9.egg-info\n",
      "  Moving to d:\\anaconda3_2023-01-22\\lib\\site-packages\\win32\\lib\\\n",
      "   from D:\\Anaconda3_2023-01-22\\Lib\\site-packages\\win32\\~ib\n",
      "  Moving to d:\\anaconda3_2023-01-22\\lib\\site-packages\\win32com\n",
      "   from D:\\Anaconda3_2023-01-22\\Lib\\site-packages\\~in32com\n",
      "  Moving to d:\\anaconda3_2023-01-22\\lib\\site-packages\\win32comext\n",
      "   from D:\\Anaconda3_2023-01-22\\Lib\\site-packages\\~in32comext\n"
     ]
    },
    {
     "name": "stderr",
     "output_type": "stream",
     "text": [
      "ERROR: Could not install packages due to an OSError: [WinError 5] Access is denied: 'D:\\\\Anaconda3_2023-01-22\\\\Lib\\\\site-packages\\\\win32\\\\_win32sysloader.pyd'\n",
      "Consider using the `--user` option or check the permissions.\n",
      "\n"
     ]
    }
   ],
   "source": [
    "!pip install mlflow"
   ]
  },
  {
   "cell_type": "code",
   "execution_count": 4,
   "id": "0c23685a",
   "metadata": {},
   "outputs": [
    {
     "name": "stdout",
     "output_type": "stream",
     "text": [
      "^C\n"
     ]
    }
   ],
   "source": [
    "!mlflow ui"
   ]
  }
 ],
 "metadata": {
  "kernelspec": {
   "display_name": "Python 3 (ipykernel)",
   "language": "python",
   "name": "python3"
  },
  "language_info": {
   "codemirror_mode": {
    "name": "ipython",
    "version": 3
   },
   "file_extension": ".py",
   "mimetype": "text/x-python",
   "name": "python",
   "nbconvert_exporter": "python",
   "pygments_lexer": "ipython3",
   "version": "3.9.13"
  }
 },
 "nbformat": 4,
 "nbformat_minor": 5
}
